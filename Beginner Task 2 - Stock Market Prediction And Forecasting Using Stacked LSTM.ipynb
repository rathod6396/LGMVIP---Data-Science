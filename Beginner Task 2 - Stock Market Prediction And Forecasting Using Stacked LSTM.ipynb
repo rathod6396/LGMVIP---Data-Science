{
 "cells": [
  {
   "cell_type": "markdown",
   "id": "mkbCAycITojE",
   "metadata": {
    "id": "mkbCAycITojE"
   },
   "source": [
    "#**LetsGrowMore #November 2021**\n",
    "\n",
    "#**Author - Parth Kantilal Rathod**\n",
    "\n",
    "#**Level : Beginner.**\n",
    "\n",
    "#**Task Title : Stock Market Prediction And Forecasting Using Stacked LSTM**"
   ]
  },
  {
   "cell_type": "markdown",
   "id": "9axRy2eiZ2Af",
   "metadata": {
    "id": "9axRy2eiZ2Af"
   },
   "source": [
    "**STEPS**\n",
    "\n",
    "- **Step 1** - Import Libraries\n",
    "- **Step 2** - Splitting dataset into train and test split\n",
    "- **Step 3** - Convert an array of values into a dataset matrix\n",
    "- **Step 4** - Reshaping the input & creating Stacked LSTM model\n",
    "- **Step 5** - Model Fitting\n",
    "- **Step 6** - Prediction and performance metrics\n",
    "- **Step 7** - Calculate RMSE performance metrics\n",
    "- **Step 8** - Test Data RMSE\n",
    "- **Step 9** - Plots"
   ]
  },
  {
   "cell_type": "markdown",
   "id": "8TuEcLGHwhRP",
   "metadata": {
    "id": "8TuEcLGHwhRP"
   },
   "source": [
    "**1. Import Libraries**"
   ]
  },
  {
   "cell_type": "code",
   "execution_count": 1,
   "id": "antique-genre",
   "metadata": {
    "id": "antique-genre"
   },
   "outputs": [],
   "source": [
    "import numpy as np\n",
    "import pandas as pd\n",
    "import matplotlib.pyplot as plt\n",
    "from matplotlib import rcParams"
   ]
  },
  {
   "cell_type": "code",
   "execution_count": 2,
   "id": "harmful-invite",
   "metadata": {
    "id": "harmful-invite"
   },
   "outputs": [],
   "source": [
    "# Importing the Dataset from CSV file\n",
    "data = pd.read_csv(\"https://raw.githubusercontent.com/mwitiderrick/stockprice/master/NSE-TATAGLOBAL.csv\")"
   ]
  },
  {
   "cell_type": "code",
   "execution_count": 3,
   "id": "russian-pastor",
   "metadata": {
    "colab": {
     "base_uri": "https://localhost:8080/",
     "height": 202
    },
    "id": "russian-pastor",
    "outputId": "86b51eb0-831f-4022-dff2-6b0e9fc64aa4"
   },
   "outputs": [
    {
     "data": {
      "text/html": [
       "<div>\n",
       "<style scoped>\n",
       "    .dataframe tbody tr th:only-of-type {\n",
       "        vertical-align: middle;\n",
       "    }\n",
       "\n",
       "    .dataframe tbody tr th {\n",
       "        vertical-align: top;\n",
       "    }\n",
       "\n",
       "    .dataframe thead th {\n",
       "        text-align: right;\n",
       "    }\n",
       "</style>\n",
       "<table border=\"1\" class=\"dataframe\">\n",
       "  <thead>\n",
       "    <tr style=\"text-align: right;\">\n",
       "      <th></th>\n",
       "      <th>Date</th>\n",
       "      <th>Open</th>\n",
       "      <th>High</th>\n",
       "      <th>Low</th>\n",
       "      <th>Last</th>\n",
       "      <th>Close</th>\n",
       "      <th>Total Trade Quantity</th>\n",
       "      <th>Turnover (Lacs)</th>\n",
       "    </tr>\n",
       "  </thead>\n",
       "  <tbody>\n",
       "    <tr>\n",
       "      <th>0</th>\n",
       "      <td>2018-09-28</td>\n",
       "      <td>234.05</td>\n",
       "      <td>235.95</td>\n",
       "      <td>230.20</td>\n",
       "      <td>233.50</td>\n",
       "      <td>233.75</td>\n",
       "      <td>3069914</td>\n",
       "      <td>7162.35</td>\n",
       "    </tr>\n",
       "    <tr>\n",
       "      <th>1</th>\n",
       "      <td>2018-09-27</td>\n",
       "      <td>234.55</td>\n",
       "      <td>236.80</td>\n",
       "      <td>231.10</td>\n",
       "      <td>233.80</td>\n",
       "      <td>233.25</td>\n",
       "      <td>5082859</td>\n",
       "      <td>11859.95</td>\n",
       "    </tr>\n",
       "    <tr>\n",
       "      <th>2</th>\n",
       "      <td>2018-09-26</td>\n",
       "      <td>240.00</td>\n",
       "      <td>240.00</td>\n",
       "      <td>232.50</td>\n",
       "      <td>235.00</td>\n",
       "      <td>234.25</td>\n",
       "      <td>2240909</td>\n",
       "      <td>5248.60</td>\n",
       "    </tr>\n",
       "    <tr>\n",
       "      <th>3</th>\n",
       "      <td>2018-09-25</td>\n",
       "      <td>233.30</td>\n",
       "      <td>236.75</td>\n",
       "      <td>232.00</td>\n",
       "      <td>236.25</td>\n",
       "      <td>236.10</td>\n",
       "      <td>2349368</td>\n",
       "      <td>5503.90</td>\n",
       "    </tr>\n",
       "    <tr>\n",
       "      <th>4</th>\n",
       "      <td>2018-09-24</td>\n",
       "      <td>233.55</td>\n",
       "      <td>239.20</td>\n",
       "      <td>230.75</td>\n",
       "      <td>234.00</td>\n",
       "      <td>233.30</td>\n",
       "      <td>3423509</td>\n",
       "      <td>7999.55</td>\n",
       "    </tr>\n",
       "  </tbody>\n",
       "</table>\n",
       "</div>"
      ],
      "text/plain": [
       "         Date    Open    High     Low    Last   Close  Total Trade Quantity  \\\n",
       "0  2018-09-28  234.05  235.95  230.20  233.50  233.75               3069914   \n",
       "1  2018-09-27  234.55  236.80  231.10  233.80  233.25               5082859   \n",
       "2  2018-09-26  240.00  240.00  232.50  235.00  234.25               2240909   \n",
       "3  2018-09-25  233.30  236.75  232.00  236.25  236.10               2349368   \n",
       "4  2018-09-24  233.55  239.20  230.75  234.00  233.30               3423509   \n",
       "\n",
       "   Turnover (Lacs)  \n",
       "0          7162.35  \n",
       "1         11859.95  \n",
       "2          5248.60  \n",
       "3          5503.90  \n",
       "4          7999.55  "
      ]
     },
     "execution_count": 3,
     "metadata": {},
     "output_type": "execute_result"
    }
   ],
   "source": [
    "data.head()"
   ]
  },
  {
   "cell_type": "code",
   "execution_count": 4,
   "id": "b5e7d1ae",
   "metadata": {},
   "outputs": [
    {
     "data": {
      "text/html": [
       "<div>\n",
       "<style scoped>\n",
       "    .dataframe tbody tr th:only-of-type {\n",
       "        vertical-align: middle;\n",
       "    }\n",
       "\n",
       "    .dataframe tbody tr th {\n",
       "        vertical-align: top;\n",
       "    }\n",
       "\n",
       "    .dataframe thead th {\n",
       "        text-align: right;\n",
       "    }\n",
       "</style>\n",
       "<table border=\"1\" class=\"dataframe\">\n",
       "  <thead>\n",
       "    <tr style=\"text-align: right;\">\n",
       "      <th></th>\n",
       "      <th>Date</th>\n",
       "      <th>Open</th>\n",
       "      <th>High</th>\n",
       "      <th>Low</th>\n",
       "      <th>Last</th>\n",
       "      <th>Close</th>\n",
       "      <th>Total Trade Quantity</th>\n",
       "      <th>Turnover (Lacs)</th>\n",
       "    </tr>\n",
       "  </thead>\n",
       "  <tbody>\n",
       "    <tr>\n",
       "      <th>2030</th>\n",
       "      <td>2010-07-27</td>\n",
       "      <td>117.6</td>\n",
       "      <td>119.50</td>\n",
       "      <td>112.00</td>\n",
       "      <td>118.80</td>\n",
       "      <td>118.65</td>\n",
       "      <td>586100</td>\n",
       "      <td>694.98</td>\n",
       "    </tr>\n",
       "    <tr>\n",
       "      <th>2031</th>\n",
       "      <td>2010-07-26</td>\n",
       "      <td>120.1</td>\n",
       "      <td>121.00</td>\n",
       "      <td>117.10</td>\n",
       "      <td>117.10</td>\n",
       "      <td>117.60</td>\n",
       "      <td>658440</td>\n",
       "      <td>780.01</td>\n",
       "    </tr>\n",
       "    <tr>\n",
       "      <th>2032</th>\n",
       "      <td>2010-07-23</td>\n",
       "      <td>121.8</td>\n",
       "      <td>121.95</td>\n",
       "      <td>120.25</td>\n",
       "      <td>120.35</td>\n",
       "      <td>120.65</td>\n",
       "      <td>281312</td>\n",
       "      <td>340.31</td>\n",
       "    </tr>\n",
       "    <tr>\n",
       "      <th>2033</th>\n",
       "      <td>2010-07-22</td>\n",
       "      <td>120.3</td>\n",
       "      <td>122.00</td>\n",
       "      <td>120.25</td>\n",
       "      <td>120.75</td>\n",
       "      <td>120.90</td>\n",
       "      <td>293312</td>\n",
       "      <td>355.17</td>\n",
       "    </tr>\n",
       "    <tr>\n",
       "      <th>2034</th>\n",
       "      <td>2010-07-21</td>\n",
       "      <td>122.1</td>\n",
       "      <td>123.00</td>\n",
       "      <td>121.05</td>\n",
       "      <td>121.10</td>\n",
       "      <td>121.55</td>\n",
       "      <td>658666</td>\n",
       "      <td>803.56</td>\n",
       "    </tr>\n",
       "  </tbody>\n",
       "</table>\n",
       "</div>"
      ],
      "text/plain": [
       "            Date   Open    High     Low    Last   Close  Total Trade Quantity  \\\n",
       "2030  2010-07-27  117.6  119.50  112.00  118.80  118.65                586100   \n",
       "2031  2010-07-26  120.1  121.00  117.10  117.10  117.60                658440   \n",
       "2032  2010-07-23  121.8  121.95  120.25  120.35  120.65                281312   \n",
       "2033  2010-07-22  120.3  122.00  120.25  120.75  120.90                293312   \n",
       "2034  2010-07-21  122.1  123.00  121.05  121.10  121.55                658666   \n",
       "\n",
       "      Turnover (Lacs)  \n",
       "2030           694.98  \n",
       "2031           780.01  \n",
       "2032           340.31  \n",
       "2033           355.17  \n",
       "2034           803.56  "
      ]
     },
     "execution_count": 4,
     "metadata": {},
     "output_type": "execute_result"
    }
   ],
   "source": [
    "data.tail()"
   ]
  },
  {
   "cell_type": "code",
   "execution_count": 5,
   "id": "affiliated-speaker",
   "metadata": {
    "colab": {
     "base_uri": "https://localhost:8080/"
    },
    "id": "affiliated-speaker",
    "outputId": "f8d13bb1-95e6-4ab1-ac51-4b906b763d97"
   },
   "outputs": [
    {
     "data": {
      "text/plain": [
       "0       233.75\n",
       "1       233.25\n",
       "2       234.25\n",
       "3       236.10\n",
       "4       233.30\n",
       "         ...  \n",
       "2030    118.65\n",
       "2031    117.60\n",
       "2032    120.65\n",
       "2033    120.90\n",
       "2034    121.55\n",
       "Name: Close, Length: 2035, dtype: float64"
      ]
     },
     "execution_count": 5,
     "metadata": {},
     "output_type": "execute_result"
    }
   ],
   "source": [
    "df1=data.reset_index()['Close']\n",
    "df1"
   ]
  },
  {
   "cell_type": "code",
   "execution_count": 6,
   "id": "embedded-style",
   "metadata": {
    "colab": {
     "base_uri": "https://localhost:8080/",
     "height": 282
    },
    "id": "embedded-style",
    "outputId": "dd5f97e1-312a-4be9-804d-24f2dcdce150"
   },
   "outputs": [
    {
     "data": {
      "text/plain": [
       "[<matplotlib.lines.Line2D at 0x2d7a1ff3a00>]"
      ]
     },
     "execution_count": 6,
     "metadata": {},
     "output_type": "execute_result"
    },
    {
     "data": {
      "image/png": "[encoded data removed]",
      "text/plain": [
       "<Figure size 432x288 with 1 Axes>"
      ]
     },
     "metadata": {
      "needs_background": "light"
     },
     "output_type": "display_data"
    }
   ],
   "source": [
    "plt.plot(df1)"
   ]
  },
  {
   "cell_type": "code",
   "execution_count": 7,
   "id": "fundamental-lease",
   "metadata": {
    "colab": {
     "base_uri": "https://localhost:8080/"
    },
    "id": "fundamental-lease",
    "outputId": "9cdc2729-d881-4f1c-d0a8-ef23bde178fa"
   },
   "outputs": [
    {
     "data": {
      "text/plain": [
       "array([[0.62418301],\n",
       "       [0.62214052],\n",
       "       [0.62622549],\n",
       "       ...,\n",
       "       [0.1621732 ],\n",
       "       [0.16319444],\n",
       "       [0.16584967]])"
      ]
     },
     "execution_count": 7,
     "metadata": {},
     "output_type": "execute_result"
    }
   ],
   "source": [
    "from sklearn.preprocessing import MinMaxScaler\n",
    "\n",
    "scaler=MinMaxScaler(feature_range=(0,1))\n",
    "df1=scaler.fit_transform(np.array(df1).reshape(-1,1))\n",
    "df1"
   ]
  },
  {
   "cell_type": "markdown",
   "id": "apparent-champion",
   "metadata": {
    "id": "apparent-champion"
   },
   "source": [
    "**2. Splitting dataset into train and test split**"
   ]
  },
  {
   "cell_type": "code",
   "execution_count": 8,
   "id": "acute-motorcycle",
   "metadata": {
    "id": "acute-motorcycle"
   },
   "outputs": [],
   "source": [
    "training_size=int(len(df1)*0.65)\n",
    "test_size=len(df1)-training_size\n",
    "\n",
    "train_data,test_data=df1[0:training_size,:],df1[training_size:len(df1),:1]"
   ]
  },
  {
   "cell_type": "markdown",
   "id": "perfect-white",
   "metadata": {
    "id": "perfect-white"
   },
   "source": [
    "**3. Convert an array of values into a dataset matrix**"
   ]
  },
  {
   "cell_type": "code",
   "execution_count": 9,
   "id": "electric-google",
   "metadata": {
    "id": "electric-google"
   },
   "outputs": [],
   "source": [
    "import numpy\n",
    "\n",
    "def create_dataset(dataset, time_step=1):\n",
    "    dataX, dataY = [], []\n",
    "    for i in range(len(dataset)-time_step-1):\n",
    "        a = dataset[i:(i+time_step), 0]   \n",
    "        dataX.append(a)\n",
    "        dataY.append(dataset[i + time_step, 0])\n",
    "    return numpy.array(dataX), numpy.array(dataY)\n",
    "\n",
    "# reshape into X=t,t+1,t+2,t+3 and Y=t+4\n",
    "time_step = 100\n",
    "\n",
    "X_train, y_train = create_dataset(train_data, time_step)\n",
    "X_test, ytest = create_dataset(test_data, time_step)"
   ]
  },
  {
   "cell_type": "code",
   "execution_count": 10,
   "id": "verified-mainland",
   "metadata": {
    "colab": {
     "base_uri": "https://localhost:8080/"
    },
    "id": "verified-mainland",
    "outputId": "0fbb1a1a-bc9e-4ad1-fa18-573d1822dc45"
   },
   "outputs": [
    {
     "name": "stdout",
     "output_type": "stream",
     "text": [
      "(1221, 100)\n",
      "(1221,)\n"
     ]
    },
    {
     "data": {
      "text/plain": [
       "(None, None)"
      ]
     },
     "execution_count": 10,
     "metadata": {},
     "output_type": "execute_result"
    }
   ],
   "source": [
    "print(X_train.shape), print(y_train.shape)"
   ]
  },
  {
   "cell_type": "code",
   "execution_count": 11,
   "id": "played-lounge",
   "metadata": {
    "colab": {
     "base_uri": "https://localhost:8080/"
    },
    "id": "played-lounge",
    "outputId": "da5ccd48-82bf-4fc1-b90e-fb66af67bb78"
   },
   "outputs": [
    {
     "name": "stdout",
     "output_type": "stream",
     "text": [
      "(612, 100)\n",
      "(612,)\n"
     ]
    },
    {
     "data": {
      "text/plain": [
       "(None, None)"
      ]
     },
     "execution_count": 11,
     "metadata": {},
     "output_type": "execute_result"
    }
   ],
   "source": [
    "print(X_test.shape), print(ytest.shape)"
   ]
  },
  {
   "cell_type": "markdown",
   "id": "opening-abuse",
   "metadata": {
    "id": "opening-abuse"
   },
   "source": [
    "**4. Reshaping the input & creating Stacked LSTM model**"
   ]
  },
  {
   "cell_type": "code",
   "execution_count": 12,
   "id": "norman-shopping",
   "metadata": {
    "colab": {
     "base_uri": "https://localhost:8080/"
    },
    "id": "norman-shopping",
    "outputId": "e40d4680-92ce-4fa7-ead1-b438a20b7a6f"
   },
   "outputs": [],
   "source": [
    "# Reshape input to be [samples, time steps, features] which is required for LSTM\n",
    "\n",
    "X_train =X_train.reshape(X_train.shape[0],X_train.shape[1] , 1)\n",
    "X_test = X_test.reshape(X_test.shape[0],X_test.shape[1] , 1)\n",
    "\n",
    "# Create the Stacked LSTM model\n",
    "import tensorflow\n",
    "from tensorflow.keras.models import Sequential\n",
    "from tensorflow.keras.layers import Dense\n",
    "from tensorflow.keras.layers import LSTM"
   ]
  },
  {
   "cell_type": "code",
   "execution_count": 13,
   "id": "breathing-loading",
   "metadata": {
    "id": "breathing-loading"
   },
   "outputs": [],
   "source": [
    "model=Sequential()\n",
    "model.add(LSTM(50,return_sequences=True,input_shape=(100,1)))\n",
    "model.add(LSTM(50,return_sequences=True))\n",
    "model.add(LSTM(50))\n",
    "model.add(Dense(1))\n",
    "\n",
    "model.compile(loss='mean_squared_error',optimizer='adam')"
   ]
  },
  {
   "cell_type": "code",
   "execution_count": 14,
   "id": "vanilla-fashion",
   "metadata": {
    "colab": {
     "base_uri": "https://localhost:8080/"
    },
    "id": "vanilla-fashion",
    "outputId": "f9bb5297-ce67-458a-d8c3-5434f47c5af3"
   },
   "outputs": [
    {
     "name": "stdout",
     "output_type": "stream",
     "text": [
      "Model: \"sequential\"\n",
      "_________________________________________________________________\n",
      " Layer (type)                Output Shape              Param #   \n",
      "=================================================================\n",
      " lstm (LSTM)                 (None, 100, 50)           10400     \n",
      "                                                                 \n",
      " lstm_1 (LSTM)               (None, 100, 50)           20200     \n",
      "                                                                 \n",
      " lstm_2 (LSTM)               (None, 50)                20200     \n",
      "                                                                 \n",
      " dense (Dense)               (None, 1)                 51        \n",
      "                                                                 \n",
      "=================================================================\n",
      "Total params: 50,851\n",
      "Trainable params: 50,851\n",
      "Non-trainable params: 0\n",
      "_________________________________________________________________\n"
     ]
    }
   ],
   "source": [
    "model.summary()"
   ]
  },
  {
   "cell_type": "code",
   "execution_count": 15,
   "id": "confidential-boards",
   "metadata": {
    "colab": {
     "base_uri": "https://localhost:8080/"
    },
    "id": "confidential-boards",
    "outputId": "ae68c16c-2f9a-4bd9-dbbd-bed29c0534ae"
   },
   "outputs": [
    {
     "name": "stdout",
     "output_type": "stream",
     "text": [
      "Model: \"sequential\"\n",
      "_________________________________________________________________\n",
      " Layer (type)                Output Shape              Param #   \n",
      "=================================================================\n",
      " lstm (LSTM)                 (None, 100, 50)           10400     \n",
      "                                                                 \n",
      " lstm_1 (LSTM)               (None, 100, 50)           20200     \n",
      "                                                                 \n",
      " lstm_2 (LSTM)               (None, 50)                20200     \n",
      "                                                                 \n",
      " dense (Dense)               (None, 1)                 51        \n",
      "                                                                 \n",
      "=================================================================\n",
      "Total params: 50,851\n",
      "Trainable params: 50,851\n",
      "Non-trainable params: 0\n",
      "_________________________________________________________________\n"
     ]
    }
   ],
   "source": [
    "model.summary()"
   ]
  },
  {
   "cell_type": "markdown",
   "id": "introductory-denver",
   "metadata": {
    "id": "introductory-denver"
   },
   "source": [
    "**5. Model Fitting**"
   ]
  },
  {
   "cell_type": "code",
   "execution_count": 16,
   "id": "unable-greensboro",
   "metadata": {
    "colab": {
     "base_uri": "https://localhost:8080/"
    },
    "id": "unable-greensboro",
    "outputId": "87021595-e057-48a6-dec5-dcac479b9ba7"
   },
   "outputs": [
    {
     "name": "stdout",
     "output_type": "stream",
     "text": [
      "Epoch 1/100\n",
      "20/20 [==============================] - 13s 317ms/step - loss: 0.0210 - val_loss: 0.0052\n",
      "Epoch 2/100\n",
      "20/20 [==============================] - 4s 221ms/step - loss: 0.0028 - val_loss: 7.8197e-04\n",
      "Epoch 3/100\n",
      "20/20 [==============================] - 4s 208ms/step - loss: 0.0016 - val_loss: 9.1470e-04\n",
      "Epoch 4/100\n",
      "20/20 [==============================] - 4s 206ms/step - loss: 0.0015 - val_loss: 8.8811e-04\n",
      "Epoch 5/100\n",
      "20/20 [==============================] - 4s 209ms/step - loss: 0.0015 - val_loss: 0.0011\n",
      "Epoch 6/100\n",
      "20/20 [==============================] - 5s 242ms/step - loss: 0.0015 - val_loss: 0.0014\n",
      "Epoch 7/100\n",
      "20/20 [==============================] - 5s 238ms/step - loss: 0.0013 - val_loss: 8.1219e-04\n",
      "Epoch 8/100\n",
      "20/20 [==============================] - 5s 247ms/step - loss: 0.0017 - val_loss: 9.8314e-04\n",
      "Epoch 9/100\n",
      "20/20 [==============================] - 5s 243ms/step - loss: 0.0013 - val_loss: 0.0016\n",
      "Epoch 10/100\n",
      "20/20 [==============================] - 5s 241ms/step - loss: 0.0014 - val_loss: 0.0012\n",
      "Epoch 11/100\n",
      "20/20 [==============================] - 5s 232ms/step - loss: 0.0013 - val_loss: 0.0014\n",
      "Epoch 12/100\n",
      "20/20 [==============================] - 5s 234ms/step - loss: 0.0013 - val_loss: 0.0011\n",
      "Epoch 13/100\n",
      "20/20 [==============================] - 4s 207ms/step - loss: 0.0012 - val_loss: 9.4354e-04\n",
      "Epoch 14/100\n",
      "20/20 [==============================] - 4s 225ms/step - loss: 0.0010 - val_loss: 9.9508e-04\n",
      "Epoch 15/100\n",
      "20/20 [==============================] - 5s 248ms/step - loss: 0.0010 - val_loss: 8.7734e-04\n",
      "Epoch 16/100\n",
      "20/20 [==============================] - 4s 225ms/step - loss: 9.8302e-04 - val_loss: 0.0011\n",
      "Epoch 17/100\n",
      "20/20 [==============================] - 4s 212ms/step - loss: 0.0010 - val_loss: 9.2755e-04\n",
      "Epoch 18/100\n",
      "20/20 [==============================] - 4s 217ms/step - loss: 9.0135e-04 - val_loss: 5.9968e-04\n",
      "Epoch 19/100\n",
      "20/20 [==============================] - 4s 223ms/step - loss: 9.1517e-04 - val_loss: 0.0011\n",
      "Epoch 20/100\n",
      "20/20 [==============================] - 5s 239ms/step - loss: 0.0012 - val_loss: 7.5180e-04\n",
      "Epoch 21/100\n",
      "20/20 [==============================] - 5s 234ms/step - loss: 9.4091e-04 - val_loss: 6.1757e-04\n",
      "Epoch 22/100\n",
      "20/20 [==============================] - 5s 233ms/step - loss: 8.8293e-04 - val_loss: 6.9851e-04\n",
      "Epoch 23/100\n",
      "20/20 [==============================] - 4s 224ms/step - loss: 7.8162e-04 - val_loss: 6.5085e-04\n",
      "Epoch 24/100\n",
      "20/20 [==============================] - 4s 226ms/step - loss: 7.5303e-04 - val_loss: 7.3233e-04\n",
      "Epoch 25/100\n",
      "20/20 [==============================] - 5s 255ms/step - loss: 7.2562e-04 - val_loss: 7.7999e-04\n",
      "Epoch 26/100\n",
      "20/20 [==============================] - 5s 230ms/step - loss: 7.0810e-04 - val_loss: 8.3079e-04\n",
      "Epoch 27/100\n",
      "20/20 [==============================] - 5s 262ms/step - loss: 7.9016e-04 - val_loss: 0.0011\n",
      "Epoch 28/100\n",
      "20/20 [==============================] - 5s 258ms/step - loss: 8.2895e-04 - val_loss: 7.5788e-04\n",
      "Epoch 29/100\n",
      "20/20 [==============================] - 5s 261ms/step - loss: 7.2452e-04 - val_loss: 6.8455e-04\n",
      "Epoch 30/100\n",
      "20/20 [==============================] - 5s 238ms/step - loss: 7.0601e-04 - val_loss: 6.2562e-04\n",
      "Epoch 31/100\n",
      "20/20 [==============================] - 5s 246ms/step - loss: 6.5652e-04 - val_loss: 7.1945e-04\n",
      "Epoch 32/100\n",
      "20/20 [==============================] - 6s 298ms/step - loss: 6.2824e-04 - val_loss: 9.2143e-04\n",
      "Epoch 33/100\n",
      "20/20 [==============================] - 5s 262ms/step - loss: 6.2338e-04 - val_loss: 7.9893e-04\n",
      "Epoch 34/100\n",
      "20/20 [==============================] - 5s 251ms/step - loss: 6.2023e-04 - val_loss: 7.6946e-04\n",
      "Epoch 35/100\n",
      "20/20 [==============================] - 4s 224ms/step - loss: 6.4765e-04 - val_loss: 5.9502e-04\n",
      "Epoch 36/100\n",
      "20/20 [==============================] - 5s 241ms/step - loss: 7.5838e-04 - val_loss: 9.5482e-04\n",
      "Epoch 37/100\n",
      "20/20 [==============================] - 5s 259ms/step - loss: 6.2156e-04 - val_loss: 6.2526e-04\n",
      "Epoch 38/100\n",
      "20/20 [==============================] - 5s 244ms/step - loss: 5.9847e-04 - val_loss: 5.5625e-04\n",
      "Epoch 39/100\n",
      "20/20 [==============================] - 5s 252ms/step - loss: 5.8533e-04 - val_loss: 6.5210e-04\n",
      "Epoch 40/100\n",
      "20/20 [==============================] - 4s 221ms/step - loss: 5.5621e-04 - val_loss: 7.6255e-04\n",
      "Epoch 41/100\n",
      "20/20 [==============================] - 5s 252ms/step - loss: 5.5860e-04 - val_loss: 6.8819e-04\n",
      "Epoch 42/100\n",
      "20/20 [==============================] - 5s 252ms/step - loss: 5.3815e-04 - val_loss: 4.8898e-04\n",
      "Epoch 43/100\n",
      "20/20 [==============================] - 5s 276ms/step - loss: 5.6568e-04 - val_loss: 7.6870e-04\n",
      "Epoch 44/100\n",
      "20/20 [==============================] - 5s 242ms/step - loss: 5.1851e-04 - val_loss: 4.8881e-04\n",
      "Epoch 45/100\n",
      "20/20 [==============================] - 5s 232ms/step - loss: 6.6976e-04 - val_loss: 0.0011\n",
      "Epoch 46/100\n",
      "20/20 [==============================] - 5s 261ms/step - loss: 6.1052e-04 - val_loss: 5.4147e-04\n",
      "Epoch 47/100\n",
      "20/20 [==============================] - 5s 242ms/step - loss: 5.9245e-04 - val_loss: 8.0113e-04\n",
      "Epoch 48/100\n",
      "20/20 [==============================] - 5s 242ms/step - loss: 5.5820e-04 - val_loss: 5.4612e-04\n",
      "Epoch 49/100\n",
      "20/20 [==============================] - 5s 259ms/step - loss: 4.9199e-04 - val_loss: 5.3777e-04\n",
      "Epoch 50/100\n",
      "20/20 [==============================] - 5s 240ms/step - loss: 6.3074e-04 - val_loss: 5.6391e-04\n",
      "Epoch 51/100\n",
      "20/20 [==============================] - 5s 247ms/step - loss: 5.8889e-04 - val_loss: 7.0469e-04\n",
      "Epoch 52/100\n",
      "20/20 [==============================] - 5s 234ms/step - loss: 7.4421e-04 - val_loss: 6.3480e-04\n",
      "Epoch 53/100\n",
      "20/20 [==============================] - 6s 287ms/step - loss: 4.8398e-04 - val_loss: 4.1391e-04\n",
      "Epoch 54/100\n",
      "20/20 [==============================] - 4s 221ms/step - loss: 6.6088e-04 - val_loss: 6.4607e-04\n",
      "Epoch 55/100\n",
      "20/20 [==============================] - 5s 232ms/step - loss: 8.4092e-04 - val_loss: 6.6254e-04\n",
      "Epoch 56/100\n",
      "20/20 [==============================] - 5s 242ms/step - loss: 4.9623e-04 - val_loss: 3.6583e-04\n",
      "Epoch 57/100\n",
      "20/20 [==============================] - 5s 250ms/step - loss: 4.7529e-04 - val_loss: 4.1321e-04\n",
      "Epoch 58/100\n",
      "20/20 [==============================] - 5s 260ms/step - loss: 4.6087e-04 - val_loss: 5.2491e-04\n",
      "Epoch 59/100\n",
      "20/20 [==============================] - 5s 230ms/step - loss: 4.7758e-04 - val_loss: 3.9380e-04\n",
      "Epoch 60/100\n",
      "20/20 [==============================] - 5s 274ms/step - loss: 7.2294e-04 - val_loss: 4.2403e-04\n",
      "Epoch 61/100\n",
      "20/20 [==============================] - 5s 272ms/step - loss: 4.2049e-04 - val_loss: 4.0873e-04\n",
      "Epoch 62/100\n",
      "20/20 [==============================] - 5s 272ms/step - loss: 3.9910e-04 - val_loss: 3.6891e-04\n",
      "Epoch 63/100\n",
      "20/20 [==============================] - 5s 262ms/step - loss: 3.8197e-04 - val_loss: 3.4919e-04\n",
      "Epoch 64/100\n",
      "20/20 [==============================] - 7s 338ms/step - loss: 3.8185e-04 - val_loss: 4.2906e-04\n",
      "Epoch 65/100\n",
      "20/20 [==============================] - 6s 291ms/step - loss: 3.5651e-04 - val_loss: 4.5919e-04\n",
      "Epoch 66/100\n",
      "20/20 [==============================] - 5s 235ms/step - loss: 3.4762e-04 - val_loss: 3.6125e-04\n",
      "Epoch 67/100\n",
      "20/20 [==============================] - 4s 224ms/step - loss: 3.9271e-04 - val_loss: 3.8244e-04\n",
      "Epoch 68/100\n",
      "20/20 [==============================] - 6s 283ms/step - loss: 3.7918e-04 - val_loss: 2.9989e-04\n",
      "Epoch 69/100\n",
      "20/20 [==============================] - 5s 251ms/step - loss: 4.2795e-04 - val_loss: 4.2907e-04\n",
      "Epoch 70/100\n",
      "20/20 [==============================] - 5s 249ms/step - loss: 3.5106e-04 - val_loss: 3.4189e-04\n",
      "Epoch 71/100\n",
      "20/20 [==============================] - 5s 272ms/step - loss: 3.4714e-04 - val_loss: 3.5032e-04\n",
      "Epoch 72/100\n",
      "20/20 [==============================] - 6s 298ms/step - loss: 3.2249e-04 - val_loss: 3.4701e-04\n",
      "Epoch 73/100\n",
      "20/20 [==============================] - 5s 231ms/step - loss: 3.1296e-04 - val_loss: 3.2272e-04\n",
      "Epoch 74/100\n",
      "20/20 [==============================] - 4s 220ms/step - loss: 2.9847e-04 - val_loss: 2.7810e-04\n",
      "Epoch 75/100\n",
      "20/20 [==============================] - 5s 240ms/step - loss: 3.4332e-04 - val_loss: 3.9872e-04\n",
      "Epoch 76/100\n",
      "20/20 [==============================] - 5s 242ms/step - loss: 3.5962e-04 - val_loss: 3.6236e-04\n",
      "Epoch 77/100\n",
      "20/20 [==============================] - 5s 279ms/step - loss: 3.9156e-04 - val_loss: 3.2824e-04\n",
      "Epoch 78/100\n",
      "20/20 [==============================] - 5s 230ms/step - loss: 3.2690e-04 - val_loss: 4.2969e-04\n",
      "Epoch 79/100\n",
      "20/20 [==============================] - 6s 287ms/step - loss: 3.5388e-04 - val_loss: 2.4505e-04\n",
      "Epoch 80/100\n",
      "20/20 [==============================] - 5s 235ms/step - loss: 3.9242e-04 - val_loss: 5.0895e-04\n",
      "Epoch 81/100\n",
      "20/20 [==============================] - 5s 251ms/step - loss: 3.7497e-04 - val_loss: 2.2821e-04\n",
      "Epoch 82/100\n",
      "20/20 [==============================] - 5s 235ms/step - loss: 2.7897e-04 - val_loss: 2.9398e-04\n",
      "Epoch 83/100\n",
      "20/20 [==============================] - 4s 223ms/step - loss: 2.8341e-04 - val_loss: 2.2873e-04\n",
      "Epoch 84/100\n",
      "20/20 [==============================] - 5s 238ms/step - loss: 3.0410e-04 - val_loss: 3.8334e-04\n",
      "Epoch 85/100\n",
      "20/20 [==============================] - 5s 245ms/step - loss: 3.3753e-04 - val_loss: 2.3699e-04\n",
      "Epoch 86/100\n",
      "20/20 [==============================] - 5s 270ms/step - loss: 2.8556e-04 - val_loss: 2.7035e-04\n",
      "Epoch 87/100\n",
      "20/20 [==============================] - 5s 274ms/step - loss: 2.5515e-04 - val_loss: 2.2976e-04\n",
      "Epoch 88/100\n",
      "20/20 [==============================] - 4s 225ms/step - loss: 2.6389e-04 - val_loss: 2.2087e-04\n",
      "Epoch 89/100\n",
      "20/20 [==============================] - 5s 237ms/step - loss: 2.4194e-04 - val_loss: 2.9563e-04\n",
      "Epoch 90/100\n",
      "20/20 [==============================] - 5s 250ms/step - loss: 2.6634e-04 - val_loss: 2.0657e-04\n",
      "Epoch 91/100\n",
      "20/20 [==============================] - 5s 243ms/step - loss: 2.9104e-04 - val_loss: 1.9931e-04\n",
      "Epoch 92/100\n",
      "20/20 [==============================] - 5s 242ms/step - loss: 2.8046e-04 - val_loss: 2.1430e-04\n",
      "Epoch 93/100\n",
      "20/20 [==============================] - 5s 231ms/step - loss: 2.3989e-04 - val_loss: 2.1566e-04\n",
      "Epoch 94/100\n",
      "20/20 [==============================] - 5s 231ms/step - loss: 2.3938e-04 - val_loss: 2.2351e-04\n",
      "Epoch 95/100\n",
      "20/20 [==============================] - 5s 259ms/step - loss: 2.5678e-04 - val_loss: 1.9363e-04\n",
      "Epoch 96/100\n",
      "20/20 [==============================] - 6s 297ms/step - loss: 2.2589e-04 - val_loss: 3.3419e-04\n",
      "Epoch 97/100\n",
      "20/20 [==============================] - 5s 251ms/step - loss: 3.5270e-04 - val_loss: 2.1426e-04\n",
      "Epoch 98/100\n",
      "20/20 [==============================] - 5s 270ms/step - loss: 2.8852e-04 - val_loss: 1.8990e-04\n",
      "Epoch 99/100\n",
      "20/20 [==============================] - 5s 261ms/step - loss: 2.4760e-04 - val_loss: 2.1987e-04\n",
      "Epoch 100/100\n",
      "20/20 [==============================] - 5s 238ms/step - loss: 2.3101e-04 - val_loss: 1.7912e-04\n"
     ]
    },
    {
     "data": {
      "text/plain": [
       "<keras.callbacks.History at 0x2d7acbfa7f0>"
      ]
     },
     "execution_count": 16,
     "metadata": {},
     "output_type": "execute_result"
    }
   ],
   "source": [
    "model.fit(X_train,y_train,validation_data=(X_test,ytest),epochs=100,batch_size=64,verbose=1)"
   ]
  },
  {
   "cell_type": "code",
   "execution_count": 17,
   "id": "meaning-julian",
   "metadata": {
    "id": "meaning-julian"
   },
   "outputs": [],
   "source": [
    "import tensorflow as tf"
   ]
  },
  {
   "cell_type": "markdown",
   "id": "eight-psychiatry",
   "metadata": {
    "id": "eight-psychiatry"
   },
   "source": [
    "**6.  Prediction and performance metrics**"
   ]
  },
  {
   "cell_type": "code",
   "execution_count": 18,
   "id": "boring-electric",
   "metadata": {
    "id": "boring-electric"
   },
   "outputs": [],
   "source": [
    "train_predict=model.predict(X_train)\n",
    "test_predict=model.predict(X_test)"
   ]
  },
  {
   "cell_type": "markdown",
   "id": "iraqi-vermont",
   "metadata": {
    "id": "iraqi-vermont"
   },
   "source": [
    "\n",
    "*    **Transform back to original form**\n",
    "\n",
    "\n",
    "\n"
   ]
  },
  {
   "cell_type": "code",
   "execution_count": 19,
   "id": "surprising-subscription",
   "metadata": {
    "id": "surprising-subscription"
   },
   "outputs": [],
   "source": [
    "train_predict=scaler.inverse_transform(train_predict)\n",
    "test_predict=scaler.inverse_transform(test_predict)"
   ]
  },
  {
   "cell_type": "markdown",
   "id": "logical-forth",
   "metadata": {
    "id": "logical-forth"
   },
   "source": [
    "**7. Calculate RMSE performance metrics**"
   ]
  },
  {
   "cell_type": "code",
   "execution_count": 20,
   "id": "excited-biodiversity",
   "metadata": {
    "colab": {
     "base_uri": "https://localhost:8080/"
    },
    "id": "excited-biodiversity",
    "outputId": "9d7c7bcd-1616-4475-9f79-fdad8de410cf"
   },
   "outputs": [
    {
     "data": {
      "text/plain": [
       "164.51569762584148"
      ]
     },
     "execution_count": 20,
     "metadata": {},
     "output_type": "execute_result"
    }
   ],
   "source": [
    "import math\n",
    "from sklearn.metrics import mean_squared_error\n",
    "math.sqrt(mean_squared_error(y_train,train_predict))"
   ]
  },
  {
   "cell_type": "markdown",
   "id": "injured-campus",
   "metadata": {
    "id": "injured-campus"
   },
   "source": [
    "**8. Test Data RMSE**"
   ]
  },
  {
   "cell_type": "code",
   "execution_count": 21,
   "id": "honey-panel",
   "metadata": {
    "colab": {
     "base_uri": "https://localhost:8080/"
    },
    "id": "honey-panel",
    "outputId": "b301738f-5034-4a99-98a8-98f638d687b4"
   },
   "outputs": [
    {
     "data": {
      "text/plain": [
       "114.81418282889065"
      ]
     },
     "execution_count": 21,
     "metadata": {},
     "output_type": "execute_result"
    }
   ],
   "source": [
    "math.sqrt(mean_squared_error(ytest,test_predict))"
   ]
  },
  {
   "cell_type": "markdown",
   "id": "private-drill",
   "metadata": {
    "id": "private-drill"
   },
   "source": [
    "**9. Plots**"
   ]
  },
  {
   "cell_type": "markdown",
   "id": "front-savannah",
   "metadata": {
    "id": "front-savannah"
   },
   "source": [
    "\n",
    "\n",
    "*  **Shifting train predictions for plotting**\n",
    "\n"
   ]
  },
  {
   "cell_type": "code",
   "execution_count": 22,
   "id": "balanced-efficiency",
   "metadata": {
    "id": "balanced-efficiency"
   },
   "outputs": [],
   "source": [
    "look_back=100\n",
    "trainPredictPlot = numpy.empty_like(df1)\n",
    "trainPredictPlot[:, :] = np.nan\n",
    "trainPredictPlot[look_back:len(train_predict)+look_back, :] = train_predict"
   ]
  },
  {
   "cell_type": "markdown",
   "id": "national-yeast",
   "metadata": {
    "id": "national-yeast"
   },
   "source": [
    "\n",
    "\n",
    "*  **Shifting test predictions for plotting**\n",
    "\n"
   ]
  },
  {
   "cell_type": "code",
   "execution_count": 23,
   "id": "hidden-drove",
   "metadata": {
    "id": "hidden-drove"
   },
   "outputs": [],
   "source": [
    "testPredictPlot = numpy.empty_like(df1)\n",
    "testPredictPlot[:, :] = numpy.nan\n",
    "testPredictPlot[len(train_predict)+(look_back*2)+1:len(df1)-1, :] = test_predict"
   ]
  },
  {
   "cell_type": "markdown",
   "id": "adult-frontier",
   "metadata": {
    "id": "adult-frontier"
   },
   "source": [
    "*  **Plot baseline and predictions**\n",
    "\n",
    "\n",
    "\n"
   ]
  },
  {
   "cell_type": "code",
   "execution_count": 24,
   "id": "listed-conservation",
   "metadata": {
    "colab": {
     "base_uri": "https://localhost:8080/",
     "height": 264
    },
    "id": "listed-conservation",
    "outputId": "671d9c55-3e31-42f7-aa16-894a1c69f441"
   },
   "outputs": [
    {
     "data": {
      "image/png": "[encoded data removed]",
      "text/plain": [
       "<Figure size 432x288 with 1 Axes>"
      ]
     },
     "metadata": {
      "needs_background": "light"
     },
     "output_type": "display_data"
    }
   ],
   "source": [
    "plt.plot(scaler.inverse_transform(df1))\n",
    "plt.plot(trainPredictPlot)\n",
    "plt.plot(testPredictPlot)\n",
    "plt.show()"
   ]
  },
  {
   "cell_type": "code",
   "execution_count": 25,
   "id": "corporate-anthony",
   "metadata": {
    "colab": {
     "base_uri": "https://localhost:8080/"
    },
    "id": "corporate-anthony",
    "outputId": "b7e403ae-3bb5-4d86-a4ef-7ada8acba39a"
   },
   "outputs": [
    {
     "data": {
      "text/plain": [
       "713"
      ]
     },
     "execution_count": 25,
     "metadata": {},
     "output_type": "execute_result"
    }
   ],
   "source": [
    "len(test_data)"
   ]
  },
  {
   "cell_type": "code",
   "execution_count": 26,
   "id": "stuffed-equipment",
   "metadata": {
    "colab": {
     "base_uri": "https://localhost:8080/"
    },
    "id": "stuffed-equipment",
    "outputId": "b86ea08c-8a88-4cd6-919c-0993316d1c4c"
   },
   "outputs": [
    {
     "data": {
      "text/plain": [
       "(1, 100)"
      ]
     },
     "execution_count": 26,
     "metadata": {},
     "output_type": "execute_result"
    }
   ],
   "source": [
    "x_input=test_data[613:].reshape(1,-1)\n",
    "x_input.shape"
   ]
  },
  {
   "cell_type": "code",
   "execution_count": 27,
   "id": "continuous-australian",
   "metadata": {
    "id": "continuous-australian"
   },
   "outputs": [],
   "source": [
    "temp_input=list(x_input)\n",
    "temp_input=temp_input[0].tolist()"
   ]
  },
  {
   "cell_type": "code",
   "execution_count": 28,
   "id": "front-advice",
   "metadata": {
    "colab": {
     "base_uri": "https://localhost:8080/"
    },
    "id": "front-advice",
    "outputId": "1d998f36-30a7-4783-973c-6e6be38b7b7f"
   },
   "outputs": [
    {
     "name": "stdout",
     "output_type": "stream",
     "text": [
      "[0.16105136]\n",
      "101\n",
      "1 day input [0.13848039 0.14011438 0.13888889 0.13541667 0.14011438 0.1380719\n",
      " 0.13071895 0.13071895 0.12867647 0.11846405 0.14644608 0.14808007\n",
      " 0.15910948 0.15992647 0.15788399 0.16441993 0.17892157 0.17933007\n",
      " 0.19260621 0.20812908 0.18974673 0.18055556 0.18239379 0.17708333\n",
      " 0.17810458 0.18055556 0.17810458 0.17851307 0.19607843 0.18913399\n",
      " 0.18954248 0.19403595 0.19444444 0.20200163 0.19771242 0.19934641\n",
      " 0.19873366 0.1997549  0.2128268  0.21568627 0.20445261 0.21772876\n",
      " 0.21098856 0.21425654 0.19750817 0.18811275 0.17851307 0.17381536\n",
      " 0.16033497 0.16564542 0.17116013 0.17422386 0.18035131 0.17401961\n",
      " 0.16278595 0.16973039 0.17810458 0.17034314 0.16830065 0.17279412\n",
      " 0.17544935 0.18382353 0.19138072 0.18913399 0.19097222 0.17238562\n",
      " 0.16830065 0.1693219  0.17177288 0.16156046 0.14971405 0.1503268\n",
      " 0.15196078 0.14726307 0.14501634 0.14603758 0.12479575 0.13112745\n",
      " 0.11397059 0.1190768  0.12377451 0.13562092 0.12908497 0.13459967\n",
      " 0.12806373 0.13031046 0.12724673 0.13521242 0.14522059 0.15257353\n",
      " 0.14848856 0.14338235 0.14562908 0.15236928 0.15400327 0.14971405\n",
      " 0.1621732  0.16319444 0.16584967 0.16105136]\n",
      "1 day output [[0.16161348]]\n",
      "2 day input [0.14011438 0.13888889 0.13541667 0.14011438 0.1380719  0.13071895\n",
      " 0.13071895 0.12867647 0.11846405 0.14644608 0.14808007 0.15910948\n",
      " 0.15992647 0.15788399 0.16441993 0.17892157 0.17933007 0.19260621\n",
      " 0.20812908 0.18974673 0.18055556 0.18239379 0.17708333 0.17810458\n",
      " 0.18055556 0.17810458 0.17851307 0.19607843 0.18913399 0.18954248\n",
      " 0.19403595 0.19444444 0.20200163 0.19771242 0.19934641 0.19873366\n",
      " 0.1997549  0.2128268  0.21568627 0.20445261 0.21772876 0.21098856\n",
      " 0.21425654 0.19750817 0.18811275 0.17851307 0.17381536 0.16033497\n",
      " 0.16564542 0.17116013 0.17422386 0.18035131 0.17401961 0.16278595\n",
      " 0.16973039 0.17810458 0.17034314 0.16830065 0.17279412 0.17544935\n",
      " 0.18382353 0.19138072 0.18913399 0.19097222 0.17238562 0.16830065\n",
      " 0.1693219  0.17177288 0.16156046 0.14971405 0.1503268  0.15196078\n",
      " 0.14726307 0.14501634 0.14603758 0.12479575 0.13112745 0.11397059\n",
      " 0.1190768  0.12377451 0.13562092 0.12908497 0.13459967 0.12806373\n",
      " 0.13031046 0.12724673 0.13521242 0.14522059 0.15257353 0.14848856\n",
      " 0.14338235 0.14562908 0.15236928 0.15400327 0.14971405 0.1621732\n",
      " 0.16319444 0.16584967 0.16105136 0.16161348]\n",
      "2 day output [[0.16045506]]\n",
      "3 day input [0.13888889 0.13541667 0.14011438 0.1380719  0.13071895 0.13071895\n",
      " 0.12867647 0.11846405 0.14644608 0.14808007 0.15910948 0.15992647\n",
      " 0.15788399 0.16441993 0.17892157 0.17933007 0.19260621 0.20812908\n",
      " 0.18974673 0.18055556 0.18239379 0.17708333 0.17810458 0.18055556\n",
      " 0.17810458 0.17851307 0.19607843 0.18913399 0.18954248 0.19403595\n",
      " 0.19444444 0.20200163 0.19771242 0.19934641 0.19873366 0.1997549\n",
      " 0.2128268  0.21568627 0.20445261 0.21772876 0.21098856 0.21425654\n",
      " 0.19750817 0.18811275 0.17851307 0.17381536 0.16033497 0.16564542\n",
      " 0.17116013 0.17422386 0.18035131 0.17401961 0.16278595 0.16973039\n",
      " 0.17810458 0.17034314 0.16830065 0.17279412 0.17544935 0.18382353\n",
      " 0.19138072 0.18913399 0.19097222 0.17238562 0.16830065 0.1693219\n",
      " 0.17177288 0.16156046 0.14971405 0.1503268  0.15196078 0.14726307\n",
      " 0.14501634 0.14603758 0.12479575 0.13112745 0.11397059 0.1190768\n",
      " 0.12377451 0.13562092 0.12908497 0.13459967 0.12806373 0.13031046\n",
      " 0.12724673 0.13521242 0.14522059 0.15257353 0.14848856 0.14338235\n",
      " 0.14562908 0.15236928 0.15400327 0.14971405 0.1621732  0.16319444\n",
      " 0.16584967 0.16105136 0.16161348 0.16045506]\n",
      "3 day output [[0.15874305]]\n",
      "4 day input [0.13541667 0.14011438 0.1380719  0.13071895 0.13071895 0.12867647\n",
      " 0.11846405 0.14644608 0.14808007 0.15910948 0.15992647 0.15788399\n",
      " 0.16441993 0.17892157 0.17933007 0.19260621 0.20812908 0.18974673\n",
      " 0.18055556 0.18239379 0.17708333 0.17810458 0.18055556 0.17810458\n",
      " 0.17851307 0.19607843 0.18913399 0.18954248 0.19403595 0.19444444\n",
      " 0.20200163 0.19771242 0.19934641 0.19873366 0.1997549  0.2128268\n",
      " 0.21568627 0.20445261 0.21772876 0.21098856 0.21425654 0.19750817\n",
      " 0.18811275 0.17851307 0.17381536 0.16033497 0.16564542 0.17116013\n",
      " 0.17422386 0.18035131 0.17401961 0.16278595 0.16973039 0.17810458\n",
      " 0.17034314 0.16830065 0.17279412 0.17544935 0.18382353 0.19138072\n",
      " 0.18913399 0.19097222 0.17238562 0.16830065 0.1693219  0.17177288\n",
      " 0.16156046 0.14971405 0.1503268  0.15196078 0.14726307 0.14501634\n",
      " 0.14603758 0.12479575 0.13112745 0.11397059 0.1190768  0.12377451\n",
      " 0.13562092 0.12908497 0.13459967 0.12806373 0.13031046 0.12724673\n",
      " 0.13521242 0.14522059 0.15257353 0.14848856 0.14338235 0.14562908\n",
      " 0.15236928 0.15400327 0.14971405 0.1621732  0.16319444 0.16584967\n",
      " 0.16105136 0.16161348 0.16045506 0.15874305]\n",
      "4 day output [[0.15699524]]\n",
      "5 day input [0.14011438 0.1380719  0.13071895 0.13071895 0.12867647 0.11846405\n",
      " 0.14644608 0.14808007 0.15910948 0.15992647 0.15788399 0.16441993\n",
      " 0.17892157 0.17933007 0.19260621 0.20812908 0.18974673 0.18055556\n",
      " 0.18239379 0.17708333 0.17810458 0.18055556 0.17810458 0.17851307\n",
      " 0.19607843 0.18913399 0.18954248 0.19403595 0.19444444 0.20200163\n",
      " 0.19771242 0.19934641 0.19873366 0.1997549  0.2128268  0.21568627\n",
      " 0.20445261 0.21772876 0.21098856 0.21425654 0.19750817 0.18811275\n",
      " 0.17851307 0.17381536 0.16033497 0.16564542 0.17116013 0.17422386\n",
      " 0.18035131 0.17401961 0.16278595 0.16973039 0.17810458 0.17034314\n",
      " 0.16830065 0.17279412 0.17544935 0.18382353 0.19138072 0.18913399\n",
      " 0.19097222 0.17238562 0.16830065 0.1693219  0.17177288 0.16156046\n",
      " 0.14971405 0.1503268  0.15196078 0.14726307 0.14501634 0.14603758\n",
      " 0.12479575 0.13112745 0.11397059 0.1190768  0.12377451 0.13562092\n",
      " 0.12908497 0.13459967 0.12806373 0.13031046 0.12724673 0.13521242\n",
      " 0.14522059 0.15257353 0.14848856 0.14338235 0.14562908 0.15236928\n",
      " 0.15400327 0.14971405 0.1621732  0.16319444 0.16584967 0.16105136\n",
      " 0.16161348 0.16045506 0.15874305 0.15699524]\n",
      "5 day output [[0.15537438]]\n",
      "6 day input [0.1380719  0.13071895 0.13071895 0.12867647 0.11846405 0.14644608\n",
      " 0.14808007 0.15910948 0.15992647 0.15788399 0.16441993 0.17892157\n",
      " 0.17933007 0.19260621 0.20812908 0.18974673 0.18055556 0.18239379\n",
      " 0.17708333 0.17810458 0.18055556 0.17810458 0.17851307 0.19607843\n",
      " 0.18913399 0.18954248 0.19403595 0.19444444 0.20200163 0.19771242\n",
      " 0.19934641 0.19873366 0.1997549  0.2128268  0.21568627 0.20445261\n",
      " 0.21772876 0.21098856 0.21425654 0.19750817 0.18811275 0.17851307\n",
      " 0.17381536 0.16033497 0.16564542 0.17116013 0.17422386 0.18035131\n",
      " 0.17401961 0.16278595 0.16973039 0.17810458 0.17034314 0.16830065\n",
      " 0.17279412 0.17544935 0.18382353 0.19138072 0.18913399 0.19097222\n",
      " 0.17238562 0.16830065 0.1693219  0.17177288 0.16156046 0.14971405\n",
      " 0.1503268  0.15196078 0.14726307 0.14501634 0.14603758 0.12479575\n",
      " 0.13112745 0.11397059 0.1190768  0.12377451 0.13562092 0.12908497\n",
      " 0.13459967 0.12806373 0.13031046 0.12724673 0.13521242 0.14522059\n",
      " 0.15257353 0.14848856 0.14338235 0.14562908 0.15236928 0.15400327\n",
      " 0.14971405 0.1621732  0.16319444 0.16584967 0.16105136 0.16161348\n",
      " 0.16045506 0.15874305 0.15699524 0.15537438]\n",
      "6 day output [[0.15390608]]\n",
      "7 day input [0.13071895 0.13071895 0.12867647 0.11846405 0.14644608 0.14808007\n",
      " 0.15910948 0.15992647 0.15788399 0.16441993 0.17892157 0.17933007\n",
      " 0.19260621 0.20812908 0.18974673 0.18055556 0.18239379 0.17708333\n",
      " 0.17810458 0.18055556 0.17810458 0.17851307 0.19607843 0.18913399\n",
      " 0.18954248 0.19403595 0.19444444 0.20200163 0.19771242 0.19934641\n",
      " 0.19873366 0.1997549  0.2128268  0.21568627 0.20445261 0.21772876\n",
      " 0.21098856 0.21425654 0.19750817 0.18811275 0.17851307 0.17381536\n",
      " 0.16033497 0.16564542 0.17116013 0.17422386 0.18035131 0.17401961\n",
      " 0.16278595 0.16973039 0.17810458 0.17034314 0.16830065 0.17279412\n",
      " 0.17544935 0.18382353 0.19138072 0.18913399 0.19097222 0.17238562\n",
      " 0.16830065 0.1693219  0.17177288 0.16156046 0.14971405 0.1503268\n",
      " 0.15196078 0.14726307 0.14501634 0.14603758 0.12479575 0.13112745\n",
      " 0.11397059 0.1190768  0.12377451 0.13562092 0.12908497 0.13459967\n",
      " 0.12806373 0.13031046 0.12724673 0.13521242 0.14522059 0.15257353\n",
      " 0.14848856 0.14338235 0.14562908 0.15236928 0.15400327 0.14971405\n",
      " 0.1621732  0.16319444 0.16584967 0.16105136 0.16161348 0.16045506\n",
      " 0.15874305 0.15699524 0.15537438 0.15390608]\n",
      "7 day output [[0.15257278]]\n",
      "8 day input [0.13071895 0.12867647 0.11846405 0.14644608 0.14808007 0.15910948\n",
      " 0.15992647 0.15788399 0.16441993 0.17892157 0.17933007 0.19260621\n",
      " 0.20812908 0.18974673 0.18055556 0.18239379 0.17708333 0.17810458\n",
      " 0.18055556 0.17810458 0.17851307 0.19607843 0.18913399 0.18954248\n",
      " 0.19403595 0.19444444 0.20200163 0.19771242 0.19934641 0.19873366\n",
      " 0.1997549  0.2128268  0.21568627 0.20445261 0.21772876 0.21098856\n",
      " 0.21425654 0.19750817 0.18811275 0.17851307 0.17381536 0.16033497\n",
      " 0.16564542 0.17116013 0.17422386 0.18035131 0.17401961 0.16278595\n",
      " 0.16973039 0.17810458 0.17034314 0.16830065 0.17279412 0.17544935\n",
      " 0.18382353 0.19138072 0.18913399 0.19097222 0.17238562 0.16830065\n",
      " 0.1693219  0.17177288 0.16156046 0.14971405 0.1503268  0.15196078\n",
      " 0.14726307 0.14501634 0.14603758 0.12479575 0.13112745 0.11397059\n",
      " 0.1190768  0.12377451 0.13562092 0.12908497 0.13459967 0.12806373\n",
      " 0.13031046 0.12724673 0.13521242 0.14522059 0.15257353 0.14848856\n",
      " 0.14338235 0.14562908 0.15236928 0.15400327 0.14971405 0.1621732\n",
      " 0.16319444 0.16584967 0.16105136 0.16161348 0.16045506 0.15874305\n",
      " 0.15699524 0.15537438 0.15390608 0.15257278]\n",
      "8 day output [[0.15134752]]\n",
      "9 day input [0.12867647 0.11846405 0.14644608 0.14808007 0.15910948 0.15992647\n",
      " 0.15788399 0.16441993 0.17892157 0.17933007 0.19260621 0.20812908\n",
      " 0.18974673 0.18055556 0.18239379 0.17708333 0.17810458 0.18055556\n",
      " 0.17810458 0.17851307 0.19607843 0.18913399 0.18954248 0.19403595\n",
      " 0.19444444 0.20200163 0.19771242 0.19934641 0.19873366 0.1997549\n",
      " 0.2128268  0.21568627 0.20445261 0.21772876 0.21098856 0.21425654\n",
      " 0.19750817 0.18811275 0.17851307 0.17381536 0.16033497 0.16564542\n",
      " 0.17116013 0.17422386 0.18035131 0.17401961 0.16278595 0.16973039\n",
      " 0.17810458 0.17034314 0.16830065 0.17279412 0.17544935 0.18382353\n",
      " 0.19138072 0.18913399 0.19097222 0.17238562 0.16830065 0.1693219\n",
      " 0.17177288 0.16156046 0.14971405 0.1503268  0.15196078 0.14726307\n",
      " 0.14501634 0.14603758 0.12479575 0.13112745 0.11397059 0.1190768\n",
      " 0.12377451 0.13562092 0.12908497 0.13459967 0.12806373 0.13031046\n",
      " 0.12724673 0.13521242 0.14522059 0.15257353 0.14848856 0.14338235\n",
      " 0.14562908 0.15236928 0.15400327 0.14971405 0.1621732  0.16319444\n",
      " 0.16584967 0.16105136 0.16161348 0.16045506 0.15874305 0.15699524\n",
      " 0.15537438 0.15390608 0.15257278 0.15134752]\n"
     ]
    },
    {
     "name": "stdout",
     "output_type": "stream",
     "text": [
      "9 day output [[0.15020631]]\n",
      "10 day input [0.11846405 0.14644608 0.14808007 0.15910948 0.15992647 0.15788399\n",
      " 0.16441993 0.17892157 0.17933007 0.19260621 0.20812908 0.18974673\n",
      " 0.18055556 0.18239379 0.17708333 0.17810458 0.18055556 0.17810458\n",
      " 0.17851307 0.19607843 0.18913399 0.18954248 0.19403595 0.19444444\n",
      " 0.20200163 0.19771242 0.19934641 0.19873366 0.1997549  0.2128268\n",
      " 0.21568627 0.20445261 0.21772876 0.21098856 0.21425654 0.19750817\n",
      " 0.18811275 0.17851307 0.17381536 0.16033497 0.16564542 0.17116013\n",
      " 0.17422386 0.18035131 0.17401961 0.16278595 0.16973039 0.17810458\n",
      " 0.17034314 0.16830065 0.17279412 0.17544935 0.18382353 0.19138072\n",
      " 0.18913399 0.19097222 0.17238562 0.16830065 0.1693219  0.17177288\n",
      " 0.16156046 0.14971405 0.1503268  0.15196078 0.14726307 0.14501634\n",
      " 0.14603758 0.12479575 0.13112745 0.11397059 0.1190768  0.12377451\n",
      " 0.13562092 0.12908497 0.13459967 0.12806373 0.13031046 0.12724673\n",
      " 0.13521242 0.14522059 0.15257353 0.14848856 0.14338235 0.14562908\n",
      " 0.15236928 0.15400327 0.14971405 0.1621732  0.16319444 0.16584967\n",
      " 0.16105136 0.16161348 0.16045506 0.15874305 0.15699524 0.15537438\n",
      " 0.15390608 0.15257278 0.15134752 0.15020631]\n",
      "10 day output [[0.14913253]]\n",
      "11 day input [0.14644608 0.14808007 0.15910948 0.15992647 0.15788399 0.16441993\n",
      " 0.17892157 0.17933007 0.19260621 0.20812908 0.18974673 0.18055556\n",
      " 0.18239379 0.17708333 0.17810458 0.18055556 0.17810458 0.17851307\n",
      " 0.19607843 0.18913399 0.18954248 0.19403595 0.19444444 0.20200163\n",
      " 0.19771242 0.19934641 0.19873366 0.1997549  0.2128268  0.21568627\n",
      " 0.20445261 0.21772876 0.21098856 0.21425654 0.19750817 0.18811275\n",
      " 0.17851307 0.17381536 0.16033497 0.16564542 0.17116013 0.17422386\n",
      " 0.18035131 0.17401961 0.16278595 0.16973039 0.17810458 0.17034314\n",
      " 0.16830065 0.17279412 0.17544935 0.18382353 0.19138072 0.18913399\n",
      " 0.19097222 0.17238562 0.16830065 0.1693219  0.17177288 0.16156046\n",
      " 0.14971405 0.1503268  0.15196078 0.14726307 0.14501634 0.14603758\n",
      " 0.12479575 0.13112745 0.11397059 0.1190768  0.12377451 0.13562092\n",
      " 0.12908497 0.13459967 0.12806373 0.13031046 0.12724673 0.13521242\n",
      " 0.14522059 0.15257353 0.14848856 0.14338235 0.14562908 0.15236928\n",
      " 0.15400327 0.14971405 0.1621732  0.16319444 0.16584967 0.16105136\n",
      " 0.16161348 0.16045506 0.15874305 0.15699524 0.15537438 0.15390608\n",
      " 0.15257278 0.15134752 0.15020631 0.14913253]\n",
      "11 day output [[0.1481168]]\n",
      "12 day input [0.14808007 0.15910948 0.15992647 0.15788399 0.16441993 0.17892157\n",
      " 0.17933007 0.19260621 0.20812908 0.18974673 0.18055556 0.18239379\n",
      " 0.17708333 0.17810458 0.18055556 0.17810458 0.17851307 0.19607843\n",
      " 0.18913399 0.18954248 0.19403595 0.19444444 0.20200163 0.19771242\n",
      " 0.19934641 0.19873366 0.1997549  0.2128268  0.21568627 0.20445261\n",
      " 0.21772876 0.21098856 0.21425654 0.19750817 0.18811275 0.17851307\n",
      " 0.17381536 0.16033497 0.16564542 0.17116013 0.17422386 0.18035131\n",
      " 0.17401961 0.16278595 0.16973039 0.17810458 0.17034314 0.16830065\n",
      " 0.17279412 0.17544935 0.18382353 0.19138072 0.18913399 0.19097222\n",
      " 0.17238562 0.16830065 0.1693219  0.17177288 0.16156046 0.14971405\n",
      " 0.1503268  0.15196078 0.14726307 0.14501634 0.14603758 0.12479575\n",
      " 0.13112745 0.11397059 0.1190768  0.12377451 0.13562092 0.12908497\n",
      " 0.13459967 0.12806373 0.13031046 0.12724673 0.13521242 0.14522059\n",
      " 0.15257353 0.14848856 0.14338235 0.14562908 0.15236928 0.15400327\n",
      " 0.14971405 0.1621732  0.16319444 0.16584967 0.16105136 0.16161348\n",
      " 0.16045506 0.15874305 0.15699524 0.15537438 0.15390608 0.15257278\n",
      " 0.15134752 0.15020631 0.14913253 0.1481168 ]\n",
      "12 day output [[0.1471561]]\n",
      "13 day input [0.15910948 0.15992647 0.15788399 0.16441993 0.17892157 0.17933007\n",
      " 0.19260621 0.20812908 0.18974673 0.18055556 0.18239379 0.17708333\n",
      " 0.17810458 0.18055556 0.17810458 0.17851307 0.19607843 0.18913399\n",
      " 0.18954248 0.19403595 0.19444444 0.20200163 0.19771242 0.19934641\n",
      " 0.19873366 0.1997549  0.2128268  0.21568627 0.20445261 0.21772876\n",
      " 0.21098856 0.21425654 0.19750817 0.18811275 0.17851307 0.17381536\n",
      " 0.16033497 0.16564542 0.17116013 0.17422386 0.18035131 0.17401961\n",
      " 0.16278595 0.16973039 0.17810458 0.17034314 0.16830065 0.17279412\n",
      " 0.17544935 0.18382353 0.19138072 0.18913399 0.19097222 0.17238562\n",
      " 0.16830065 0.1693219  0.17177288 0.16156046 0.14971405 0.1503268\n",
      " 0.15196078 0.14726307 0.14501634 0.14603758 0.12479575 0.13112745\n",
      " 0.11397059 0.1190768  0.12377451 0.13562092 0.12908497 0.13459967\n",
      " 0.12806373 0.13031046 0.12724673 0.13521242 0.14522059 0.15257353\n",
      " 0.14848856 0.14338235 0.14562908 0.15236928 0.15400327 0.14971405\n",
      " 0.1621732  0.16319444 0.16584967 0.16105136 0.16161348 0.16045506\n",
      " 0.15874305 0.15699524 0.15537438 0.15390608 0.15257278 0.15134752\n",
      " 0.15020631 0.14913253 0.1481168  0.1471561 ]\n",
      "13 day output [[0.1462512]]\n",
      "14 day input [0.15992647 0.15788399 0.16441993 0.17892157 0.17933007 0.19260621\n",
      " 0.20812908 0.18974673 0.18055556 0.18239379 0.17708333 0.17810458\n",
      " 0.18055556 0.17810458 0.17851307 0.19607843 0.18913399 0.18954248\n",
      " 0.19403595 0.19444444 0.20200163 0.19771242 0.19934641 0.19873366\n",
      " 0.1997549  0.2128268  0.21568627 0.20445261 0.21772876 0.21098856\n",
      " 0.21425654 0.19750817 0.18811275 0.17851307 0.17381536 0.16033497\n",
      " 0.16564542 0.17116013 0.17422386 0.18035131 0.17401961 0.16278595\n",
      " 0.16973039 0.17810458 0.17034314 0.16830065 0.17279412 0.17544935\n",
      " 0.18382353 0.19138072 0.18913399 0.19097222 0.17238562 0.16830065\n",
      " 0.1693219  0.17177288 0.16156046 0.14971405 0.1503268  0.15196078\n",
      " 0.14726307 0.14501634 0.14603758 0.12479575 0.13112745 0.11397059\n",
      " 0.1190768  0.12377451 0.13562092 0.12908497 0.13459967 0.12806373\n",
      " 0.13031046 0.12724673 0.13521242 0.14522059 0.15257353 0.14848856\n",
      " 0.14338235 0.14562908 0.15236928 0.15400327 0.14971405 0.1621732\n",
      " 0.16319444 0.16584967 0.16105136 0.16161348 0.16045506 0.15874305\n",
      " 0.15699524 0.15537438 0.15390608 0.15257278 0.15134752 0.15020631\n",
      " 0.14913253 0.1481168  0.1471561  0.1462512 ]\n",
      "14 day output [[0.1454043]]\n",
      "15 day input [0.15788399 0.16441993 0.17892157 0.17933007 0.19260621 0.20812908\n",
      " 0.18974673 0.18055556 0.18239379 0.17708333 0.17810458 0.18055556\n",
      " 0.17810458 0.17851307 0.19607843 0.18913399 0.18954248 0.19403595\n",
      " 0.19444444 0.20200163 0.19771242 0.19934641 0.19873366 0.1997549\n",
      " 0.2128268  0.21568627 0.20445261 0.21772876 0.21098856 0.21425654\n",
      " 0.19750817 0.18811275 0.17851307 0.17381536 0.16033497 0.16564542\n",
      " 0.17116013 0.17422386 0.18035131 0.17401961 0.16278595 0.16973039\n",
      " 0.17810458 0.17034314 0.16830065 0.17279412 0.17544935 0.18382353\n",
      " 0.19138072 0.18913399 0.19097222 0.17238562 0.16830065 0.1693219\n",
      " 0.17177288 0.16156046 0.14971405 0.1503268  0.15196078 0.14726307\n",
      " 0.14501634 0.14603758 0.12479575 0.13112745 0.11397059 0.1190768\n",
      " 0.12377451 0.13562092 0.12908497 0.13459967 0.12806373 0.13031046\n",
      " 0.12724673 0.13521242 0.14522059 0.15257353 0.14848856 0.14338235\n",
      " 0.14562908 0.15236928 0.15400327 0.14971405 0.1621732  0.16319444\n",
      " 0.16584967 0.16105136 0.16161348 0.16045506 0.15874305 0.15699524\n",
      " 0.15537438 0.15390608 0.15257278 0.15134752 0.15020631 0.14913253\n",
      " 0.1481168  0.1471561  0.1462512  0.14540429]\n",
      "15 day output [[0.14461723]]\n",
      "16 day input [0.16441993 0.17892157 0.17933007 0.19260621 0.20812908 0.18974673\n",
      " 0.18055556 0.18239379 0.17708333 0.17810458 0.18055556 0.17810458\n",
      " 0.17851307 0.19607843 0.18913399 0.18954248 0.19403595 0.19444444\n",
      " 0.20200163 0.19771242 0.19934641 0.19873366 0.1997549  0.2128268\n",
      " 0.21568627 0.20445261 0.21772876 0.21098856 0.21425654 0.19750817\n",
      " 0.18811275 0.17851307 0.17381536 0.16033497 0.16564542 0.17116013\n",
      " 0.17422386 0.18035131 0.17401961 0.16278595 0.16973039 0.17810458\n",
      " 0.17034314 0.16830065 0.17279412 0.17544935 0.18382353 0.19138072\n",
      " 0.18913399 0.19097222 0.17238562 0.16830065 0.1693219  0.17177288\n",
      " 0.16156046 0.14971405 0.1503268  0.15196078 0.14726307 0.14501634\n",
      " 0.14603758 0.12479575 0.13112745 0.11397059 0.1190768  0.12377451\n",
      " 0.13562092 0.12908497 0.13459967 0.12806373 0.13031046 0.12724673\n",
      " 0.13521242 0.14522059 0.15257353 0.14848856 0.14338235 0.14562908\n",
      " 0.15236928 0.15400327 0.14971405 0.1621732  0.16319444 0.16584967\n",
      " 0.16105136 0.16161348 0.16045506 0.15874305 0.15699524 0.15537438\n",
      " 0.15390608 0.15257278 0.15134752 0.15020631 0.14913253 0.1481168\n",
      " 0.1471561  0.1462512  0.14540429 0.14461723]\n",
      "16 day output [[0.14389037]]\n",
      "17 day input [0.17892157 0.17933007 0.19260621 0.20812908 0.18974673 0.18055556\n",
      " 0.18239379 0.17708333 0.17810458 0.18055556 0.17810458 0.17851307\n",
      " 0.19607843 0.18913399 0.18954248 0.19403595 0.19444444 0.20200163\n",
      " 0.19771242 0.19934641 0.19873366 0.1997549  0.2128268  0.21568627\n",
      " 0.20445261 0.21772876 0.21098856 0.21425654 0.19750817 0.18811275\n",
      " 0.17851307 0.17381536 0.16033497 0.16564542 0.17116013 0.17422386\n",
      " 0.18035131 0.17401961 0.16278595 0.16973039 0.17810458 0.17034314\n",
      " 0.16830065 0.17279412 0.17544935 0.18382353 0.19138072 0.18913399\n",
      " 0.19097222 0.17238562 0.16830065 0.1693219  0.17177288 0.16156046\n",
      " 0.14971405 0.1503268  0.15196078 0.14726307 0.14501634 0.14603758\n",
      " 0.12479575 0.13112745 0.11397059 0.1190768  0.12377451 0.13562092\n",
      " 0.12908497 0.13459967 0.12806373 0.13031046 0.12724673 0.13521242\n",
      " 0.14522059 0.15257353 0.14848856 0.14338235 0.14562908 0.15236928\n",
      " 0.15400327 0.14971405 0.1621732  0.16319444 0.16584967 0.16105136\n",
      " 0.16161348 0.16045506 0.15874305 0.15699524 0.15537438 0.15390608\n",
      " 0.15257278 0.15134752 0.15020631 0.14913253 0.1481168  0.1471561\n",
      " 0.1462512  0.14540429 0.14461723 0.14389037]\n",
      "17 day output [[0.14322223]]\n",
      "18 day input [0.17933007 0.19260621 0.20812908 0.18974673 0.18055556 0.18239379\n",
      " 0.17708333 0.17810458 0.18055556 0.17810458 0.17851307 0.19607843\n",
      " 0.18913399 0.18954248 0.19403595 0.19444444 0.20200163 0.19771242\n",
      " 0.19934641 0.19873366 0.1997549  0.2128268  0.21568627 0.20445261\n",
      " 0.21772876 0.21098856 0.21425654 0.19750817 0.18811275 0.17851307\n",
      " 0.17381536 0.16033497 0.16564542 0.17116013 0.17422386 0.18035131\n",
      " 0.17401961 0.16278595 0.16973039 0.17810458 0.17034314 0.16830065\n",
      " 0.17279412 0.17544935 0.18382353 0.19138072 0.18913399 0.19097222\n",
      " 0.17238562 0.16830065 0.1693219  0.17177288 0.16156046 0.14971405\n",
      " 0.1503268  0.15196078 0.14726307 0.14501634 0.14603758 0.12479575\n",
      " 0.13112745 0.11397059 0.1190768  0.12377451 0.13562092 0.12908497\n",
      " 0.13459967 0.12806373 0.13031046 0.12724673 0.13521242 0.14522059\n",
      " 0.15257353 0.14848856 0.14338235 0.14562908 0.15236928 0.15400327\n",
      " 0.14971405 0.1621732  0.16319444 0.16584967 0.16105136 0.16161348\n",
      " 0.16045506 0.15874305 0.15699524 0.15537438 0.15390608 0.15257278\n",
      " 0.15134752 0.15020631 0.14913253 0.1481168  0.1471561  0.1462512\n",
      " 0.14540429 0.14461723 0.14389037 0.14322223]\n"
     ]
    },
    {
     "name": "stdout",
     "output_type": "stream",
     "text": [
      "18 day output [[0.14260969]]\n",
      "19 day input [0.19260621 0.20812908 0.18974673 0.18055556 0.18239379 0.17708333\n",
      " 0.17810458 0.18055556 0.17810458 0.17851307 0.19607843 0.18913399\n",
      " 0.18954248 0.19403595 0.19444444 0.20200163 0.19771242 0.19934641\n",
      " 0.19873366 0.1997549  0.2128268  0.21568627 0.20445261 0.21772876\n",
      " 0.21098856 0.21425654 0.19750817 0.18811275 0.17851307 0.17381536\n",
      " 0.16033497 0.16564542 0.17116013 0.17422386 0.18035131 0.17401961\n",
      " 0.16278595 0.16973039 0.17810458 0.17034314 0.16830065 0.17279412\n",
      " 0.17544935 0.18382353 0.19138072 0.18913399 0.19097222 0.17238562\n",
      " 0.16830065 0.1693219  0.17177288 0.16156046 0.14971405 0.1503268\n",
      " 0.15196078 0.14726307 0.14501634 0.14603758 0.12479575 0.13112745\n",
      " 0.11397059 0.1190768  0.12377451 0.13562092 0.12908497 0.13459967\n",
      " 0.12806373 0.13031046 0.12724673 0.13521242 0.14522059 0.15257353\n",
      " 0.14848856 0.14338235 0.14562908 0.15236928 0.15400327 0.14971405\n",
      " 0.1621732  0.16319444 0.16584967 0.16105136 0.16161348 0.16045506\n",
      " 0.15874305 0.15699524 0.15537438 0.15390608 0.15257278 0.15134752\n",
      " 0.15020631 0.14913253 0.1481168  0.1471561  0.1462512  0.14540429\n",
      " 0.14461723 0.14389037 0.14322223 0.14260969]\n",
      "19 day output [[0.1420481]]\n",
      "20 day input [0.20812908 0.18974673 0.18055556 0.18239379 0.17708333 0.17810458\n",
      " 0.18055556 0.17810458 0.17851307 0.19607843 0.18913399 0.18954248\n",
      " 0.19403595 0.19444444 0.20200163 0.19771242 0.19934641 0.19873366\n",
      " 0.1997549  0.2128268  0.21568627 0.20445261 0.21772876 0.21098856\n",
      " 0.21425654 0.19750817 0.18811275 0.17851307 0.17381536 0.16033497\n",
      " 0.16564542 0.17116013 0.17422386 0.18035131 0.17401961 0.16278595\n",
      " 0.16973039 0.17810458 0.17034314 0.16830065 0.17279412 0.17544935\n",
      " 0.18382353 0.19138072 0.18913399 0.19097222 0.17238562 0.16830065\n",
      " 0.1693219  0.17177288 0.16156046 0.14971405 0.1503268  0.15196078\n",
      " 0.14726307 0.14501634 0.14603758 0.12479575 0.13112745 0.11397059\n",
      " 0.1190768  0.12377451 0.13562092 0.12908497 0.13459967 0.12806373\n",
      " 0.13031046 0.12724673 0.13521242 0.14522059 0.15257353 0.14848856\n",
      " 0.14338235 0.14562908 0.15236928 0.15400327 0.14971405 0.1621732\n",
      " 0.16319444 0.16584967 0.16105136 0.16161348 0.16045506 0.15874305\n",
      " 0.15699524 0.15537438 0.15390608 0.15257278 0.15134752 0.15020631\n",
      " 0.14913253 0.1481168  0.1471561  0.1462512  0.14540429 0.14461723\n",
      " 0.14389037 0.14322223 0.14260969 0.14204811]\n",
      "20 day output [[0.14153203]]\n",
      "21 day input [0.18974673 0.18055556 0.18239379 0.17708333 0.17810458 0.18055556\n",
      " 0.17810458 0.17851307 0.19607843 0.18913399 0.18954248 0.19403595\n",
      " 0.19444444 0.20200163 0.19771242 0.19934641 0.19873366 0.1997549\n",
      " 0.2128268  0.21568627 0.20445261 0.21772876 0.21098856 0.21425654\n",
      " 0.19750817 0.18811275 0.17851307 0.17381536 0.16033497 0.16564542\n",
      " 0.17116013 0.17422386 0.18035131 0.17401961 0.16278595 0.16973039\n",
      " 0.17810458 0.17034314 0.16830065 0.17279412 0.17544935 0.18382353\n",
      " 0.19138072 0.18913399 0.19097222 0.17238562 0.16830065 0.1693219\n",
      " 0.17177288 0.16156046 0.14971405 0.1503268  0.15196078 0.14726307\n",
      " 0.14501634 0.14603758 0.12479575 0.13112745 0.11397059 0.1190768\n",
      " 0.12377451 0.13562092 0.12908497 0.13459967 0.12806373 0.13031046\n",
      " 0.12724673 0.13521242 0.14522059 0.15257353 0.14848856 0.14338235\n",
      " 0.14562908 0.15236928 0.15400327 0.14971405 0.1621732  0.16319444\n",
      " 0.16584967 0.16105136 0.16161348 0.16045506 0.15874305 0.15699524\n",
      " 0.15537438 0.15390608 0.15257278 0.15134752 0.15020631 0.14913253\n",
      " 0.1481168  0.1471561  0.1462512  0.14540429 0.14461723 0.14389037\n",
      " 0.14322223 0.14260969 0.14204811 0.14153203]\n",
      "21 day output [[0.14105558]]\n",
      "22 day input [0.18055556 0.18239379 0.17708333 0.17810458 0.18055556 0.17810458\n",
      " 0.17851307 0.19607843 0.18913399 0.18954248 0.19403595 0.19444444\n",
      " 0.20200163 0.19771242 0.19934641 0.19873366 0.1997549  0.2128268\n",
      " 0.21568627 0.20445261 0.21772876 0.21098856 0.21425654 0.19750817\n",
      " 0.18811275 0.17851307 0.17381536 0.16033497 0.16564542 0.17116013\n",
      " 0.17422386 0.18035131 0.17401961 0.16278595 0.16973039 0.17810458\n",
      " 0.17034314 0.16830065 0.17279412 0.17544935 0.18382353 0.19138072\n",
      " 0.18913399 0.19097222 0.17238562 0.16830065 0.1693219  0.17177288\n",
      " 0.16156046 0.14971405 0.1503268  0.15196078 0.14726307 0.14501634\n",
      " 0.14603758 0.12479575 0.13112745 0.11397059 0.1190768  0.12377451\n",
      " 0.13562092 0.12908497 0.13459967 0.12806373 0.13031046 0.12724673\n",
      " 0.13521242 0.14522059 0.15257353 0.14848856 0.14338235 0.14562908\n",
      " 0.15236928 0.15400327 0.14971405 0.1621732  0.16319444 0.16584967\n",
      " 0.16105136 0.16161348 0.16045506 0.15874305 0.15699524 0.15537438\n",
      " 0.15390608 0.15257278 0.15134752 0.15020631 0.14913253 0.1481168\n",
      " 0.1471561  0.1462512  0.14540429 0.14461723 0.14389037 0.14322223\n",
      " 0.14260969 0.14204811 0.14153203 0.14105558]\n",
      "22 day output [[0.14061317]]\n",
      "23 day input [0.18239379 0.17708333 0.17810458 0.18055556 0.17810458 0.17851307\n",
      " 0.19607843 0.18913399 0.18954248 0.19403595 0.19444444 0.20200163\n",
      " 0.19771242 0.19934641 0.19873366 0.1997549  0.2128268  0.21568627\n",
      " 0.20445261 0.21772876 0.21098856 0.21425654 0.19750817 0.18811275\n",
      " 0.17851307 0.17381536 0.16033497 0.16564542 0.17116013 0.17422386\n",
      " 0.18035131 0.17401961 0.16278595 0.16973039 0.17810458 0.17034314\n",
      " 0.16830065 0.17279412 0.17544935 0.18382353 0.19138072 0.18913399\n",
      " 0.19097222 0.17238562 0.16830065 0.1693219  0.17177288 0.16156046\n",
      " 0.14971405 0.1503268  0.15196078 0.14726307 0.14501634 0.14603758\n",
      " 0.12479575 0.13112745 0.11397059 0.1190768  0.12377451 0.13562092\n",
      " 0.12908497 0.13459967 0.12806373 0.13031046 0.12724673 0.13521242\n",
      " 0.14522059 0.15257353 0.14848856 0.14338235 0.14562908 0.15236928\n",
      " 0.15400327 0.14971405 0.1621732  0.16319444 0.16584967 0.16105136\n",
      " 0.16161348 0.16045506 0.15874305 0.15699524 0.15537438 0.15390608\n",
      " 0.15257278 0.15134752 0.15020631 0.14913253 0.1481168  0.1471561\n",
      " 0.1462512  0.14540429 0.14461723 0.14389037 0.14322223 0.14260969\n",
      " 0.14204811 0.14153203 0.14105558 0.14061317]\n",
      "23 day output [[0.14019932]]\n",
      "24 day input [0.17708333 0.17810458 0.18055556 0.17810458 0.17851307 0.19607843\n",
      " 0.18913399 0.18954248 0.19403595 0.19444444 0.20200163 0.19771242\n",
      " 0.19934641 0.19873366 0.1997549  0.2128268  0.21568627 0.20445261\n",
      " 0.21772876 0.21098856 0.21425654 0.19750817 0.18811275 0.17851307\n",
      " 0.17381536 0.16033497 0.16564542 0.17116013 0.17422386 0.18035131\n",
      " 0.17401961 0.16278595 0.16973039 0.17810458 0.17034314 0.16830065\n",
      " 0.17279412 0.17544935 0.18382353 0.19138072 0.18913399 0.19097222\n",
      " 0.17238562 0.16830065 0.1693219  0.17177288 0.16156046 0.14971405\n",
      " 0.1503268  0.15196078 0.14726307 0.14501634 0.14603758 0.12479575\n",
      " 0.13112745 0.11397059 0.1190768  0.12377451 0.13562092 0.12908497\n",
      " 0.13459967 0.12806373 0.13031046 0.12724673 0.13521242 0.14522059\n",
      " 0.15257353 0.14848856 0.14338235 0.14562908 0.15236928 0.15400327\n",
      " 0.14971405 0.1621732  0.16319444 0.16584967 0.16105136 0.16161348\n",
      " 0.16045506 0.15874305 0.15699524 0.15537438 0.15390608 0.15257278\n",
      " 0.15134752 0.15020631 0.14913253 0.1481168  0.1471561  0.1462512\n",
      " 0.14540429 0.14461723 0.14389037 0.14322223 0.14260969 0.14204811\n",
      " 0.14153203 0.14105558 0.14061317 0.14019932]\n",
      "24 day output [[0.13980915]]\n",
      "25 day input [0.17810458 0.18055556 0.17810458 0.17851307 0.19607843 0.18913399\n",
      " 0.18954248 0.19403595 0.19444444 0.20200163 0.19771242 0.19934641\n",
      " 0.19873366 0.1997549  0.2128268  0.21568627 0.20445261 0.21772876\n",
      " 0.21098856 0.21425654 0.19750817 0.18811275 0.17851307 0.17381536\n",
      " 0.16033497 0.16564542 0.17116013 0.17422386 0.18035131 0.17401961\n",
      " 0.16278595 0.16973039 0.17810458 0.17034314 0.16830065 0.17279412\n",
      " 0.17544935 0.18382353 0.19138072 0.18913399 0.19097222 0.17238562\n",
      " 0.16830065 0.1693219  0.17177288 0.16156046 0.14971405 0.1503268\n",
      " 0.15196078 0.14726307 0.14501634 0.14603758 0.12479575 0.13112745\n",
      " 0.11397059 0.1190768  0.12377451 0.13562092 0.12908497 0.13459967\n",
      " 0.12806373 0.13031046 0.12724673 0.13521242 0.14522059 0.15257353\n",
      " 0.14848856 0.14338235 0.14562908 0.15236928 0.15400327 0.14971405\n",
      " 0.1621732  0.16319444 0.16584967 0.16105136 0.16161348 0.16045506\n",
      " 0.15874305 0.15699524 0.15537438 0.15390608 0.15257278 0.15134752\n",
      " 0.15020631 0.14913253 0.1481168  0.1471561  0.1462512  0.14540429\n",
      " 0.14461723 0.14389037 0.14322223 0.14260969 0.14204811 0.14153203\n",
      " 0.14105558 0.14061317 0.14019932 0.13980915]\n",
      "25 day output [[0.13943854]]\n",
      "26 day input [0.18055556 0.17810458 0.17851307 0.19607843 0.18913399 0.18954248\n",
      " 0.19403595 0.19444444 0.20200163 0.19771242 0.19934641 0.19873366\n",
      " 0.1997549  0.2128268  0.21568627 0.20445261 0.21772876 0.21098856\n",
      " 0.21425654 0.19750817 0.18811275 0.17851307 0.17381536 0.16033497\n",
      " 0.16564542 0.17116013 0.17422386 0.18035131 0.17401961 0.16278595\n",
      " 0.16973039 0.17810458 0.17034314 0.16830065 0.17279412 0.17544935\n",
      " 0.18382353 0.19138072 0.18913399 0.19097222 0.17238562 0.16830065\n",
      " 0.1693219  0.17177288 0.16156046 0.14971405 0.1503268  0.15196078\n",
      " 0.14726307 0.14501634 0.14603758 0.12479575 0.13112745 0.11397059\n",
      " 0.1190768  0.12377451 0.13562092 0.12908497 0.13459967 0.12806373\n",
      " 0.13031046 0.12724673 0.13521242 0.14522059 0.15257353 0.14848856\n",
      " 0.14338235 0.14562908 0.15236928 0.15400327 0.14971405 0.1621732\n",
      " 0.16319444 0.16584967 0.16105136 0.16161348 0.16045506 0.15874305\n",
      " 0.15699524 0.15537438 0.15390608 0.15257278 0.15134752 0.15020631\n",
      " 0.14913253 0.1481168  0.1471561  0.1462512  0.14540429 0.14461723\n",
      " 0.14389037 0.14322223 0.14260969 0.14204811 0.14153203 0.14105558\n",
      " 0.14061317 0.14019932 0.13980915 0.13943854]\n",
      "26 day output [[0.13908388]]\n",
      "27 day input [0.17810458 0.17851307 0.19607843 0.18913399 0.18954248 0.19403595\n",
      " 0.19444444 0.20200163 0.19771242 0.19934641 0.19873366 0.1997549\n",
      " 0.2128268  0.21568627 0.20445261 0.21772876 0.21098856 0.21425654\n",
      " 0.19750817 0.18811275 0.17851307 0.17381536 0.16033497 0.16564542\n",
      " 0.17116013 0.17422386 0.18035131 0.17401961 0.16278595 0.16973039\n",
      " 0.17810458 0.17034314 0.16830065 0.17279412 0.17544935 0.18382353\n",
      " 0.19138072 0.18913399 0.19097222 0.17238562 0.16830065 0.1693219\n",
      " 0.17177288 0.16156046 0.14971405 0.1503268  0.15196078 0.14726307\n",
      " 0.14501634 0.14603758 0.12479575 0.13112745 0.11397059 0.1190768\n",
      " 0.12377451 0.13562092 0.12908497 0.13459967 0.12806373 0.13031046\n",
      " 0.12724673 0.13521242 0.14522059 0.15257353 0.14848856 0.14338235\n",
      " 0.14562908 0.15236928 0.15400327 0.14971405 0.1621732  0.16319444\n",
      " 0.16584967 0.16105136 0.16161348 0.16045506 0.15874305 0.15699524\n",
      " 0.15537438 0.15390608 0.15257278 0.15134752 0.15020631 0.14913253\n",
      " 0.1481168  0.1471561  0.1462512  0.14540429 0.14461723 0.14389037\n",
      " 0.14322223 0.14260969 0.14204811 0.14153203 0.14105558 0.14061317\n",
      " 0.14019932 0.13980915 0.13943854 0.13908388]\n"
     ]
    },
    {
     "name": "stdout",
     "output_type": "stream",
     "text": [
      "27 day output [[0.13874225]]\n",
      "28 day input [0.17851307 0.19607843 0.18913399 0.18954248 0.19403595 0.19444444\n",
      " 0.20200163 0.19771242 0.19934641 0.19873366 0.1997549  0.2128268\n",
      " 0.21568627 0.20445261 0.21772876 0.21098856 0.21425654 0.19750817\n",
      " 0.18811275 0.17851307 0.17381536 0.16033497 0.16564542 0.17116013\n",
      " 0.17422386 0.18035131 0.17401961 0.16278595 0.16973039 0.17810458\n",
      " 0.17034314 0.16830065 0.17279412 0.17544935 0.18382353 0.19138072\n",
      " 0.18913399 0.19097222 0.17238562 0.16830065 0.1693219  0.17177288\n",
      " 0.16156046 0.14971405 0.1503268  0.15196078 0.14726307 0.14501634\n",
      " 0.14603758 0.12479575 0.13112745 0.11397059 0.1190768  0.12377451\n",
      " 0.13562092 0.12908497 0.13459967 0.12806373 0.13031046 0.12724673\n",
      " 0.13521242 0.14522059 0.15257353 0.14848856 0.14338235 0.14562908\n",
      " 0.15236928 0.15400327 0.14971405 0.1621732  0.16319444 0.16584967\n",
      " 0.16105136 0.16161348 0.16045506 0.15874305 0.15699524 0.15537438\n",
      " 0.15390608 0.15257278 0.15134752 0.15020631 0.14913253 0.1481168\n",
      " 0.1471561  0.1462512  0.14540429 0.14461723 0.14389037 0.14322223\n",
      " 0.14260969 0.14204811 0.14153203 0.14105558 0.14061317 0.14019932\n",
      " 0.13980915 0.13943854 0.13908388 0.13874225]\n",
      "28 day output [[0.13841115]]\n",
      "29 day input [0.19607843 0.18913399 0.18954248 0.19403595 0.19444444 0.20200163\n",
      " 0.19771242 0.19934641 0.19873366 0.1997549  0.2128268  0.21568627\n",
      " 0.20445261 0.21772876 0.21098856 0.21425654 0.19750817 0.18811275\n",
      " 0.17851307 0.17381536 0.16033497 0.16564542 0.17116013 0.17422386\n",
      " 0.18035131 0.17401961 0.16278595 0.16973039 0.17810458 0.17034314\n",
      " 0.16830065 0.17279412 0.17544935 0.18382353 0.19138072 0.18913399\n",
      " 0.19097222 0.17238562 0.16830065 0.1693219  0.17177288 0.16156046\n",
      " 0.14971405 0.1503268  0.15196078 0.14726307 0.14501634 0.14603758\n",
      " 0.12479575 0.13112745 0.11397059 0.1190768  0.12377451 0.13562092\n",
      " 0.12908497 0.13459967 0.12806373 0.13031046 0.12724673 0.13521242\n",
      " 0.14522059 0.15257353 0.14848856 0.14338235 0.14562908 0.15236928\n",
      " 0.15400327 0.14971405 0.1621732  0.16319444 0.16584967 0.16105136\n",
      " 0.16161348 0.16045506 0.15874305 0.15699524 0.15537438 0.15390608\n",
      " 0.15257278 0.15134752 0.15020631 0.14913253 0.1481168  0.1471561\n",
      " 0.1462512  0.14540429 0.14461723 0.14389037 0.14322223 0.14260969\n",
      " 0.14204811 0.14153203 0.14105558 0.14061317 0.14019932 0.13980915\n",
      " 0.13943854 0.13908388 0.13874225 0.13841115]\n",
      "29 day output [[0.13808861]]\n"
     ]
    }
   ],
   "source": [
    "# demonstrate prediction for next 10 days\n",
    "from numpy import array\n",
    "\n",
    "lst_output=[]\n",
    "n_steps=100\n",
    "i=0\n",
    "while(i<30):\n",
    "    \n",
    "    if(len(temp_input)>100):\n",
    "        x_input=np.array(temp_input[1:])\n",
    "        print(\"{} day input {}\".format(i,x_input))\n",
    "        x_input=x_input.reshape(1,-1)\n",
    "        x_input = x_input.reshape((1, n_steps, 1))\n",
    "        yhat = model.predict(x_input, verbose=0)\n",
    "        print(\"{} day output {}\".format(i,yhat))\n",
    "        temp_input.extend(yhat[0].tolist())\n",
    "        temp_input=temp_input[1:]\n",
    "        lst_output.extend(yhat.tolist())\n",
    "        i=i+1\n",
    "    else:\n",
    "        x_input = x_input.reshape((1, n_steps,1))\n",
    "        yhat = model.predict(x_input, verbose=0)\n",
    "        print(yhat[0])\n",
    "        temp_input.extend(yhat[0].tolist())\n",
    "        print(len(temp_input))\n",
    "        lst_output.extend(yhat.tolist())\n",
    "        i=i+1\n",
    "    \n"
   ]
  },
  {
   "cell_type": "code",
   "execution_count": 29,
   "id": "three-medium",
   "metadata": {
    "id": "three-medium"
   },
   "outputs": [],
   "source": [
    "day_new=np.arange(1,164)\n",
    "day_pred=np.arange(144,174)"
   ]
  },
  {
   "cell_type": "code",
   "execution_count": 30,
   "id": "significant-chamber",
   "metadata": {
    "colab": {
     "base_uri": "https://localhost:8080/",
     "height": 282
    },
    "id": "significant-chamber",
    "outputId": "9a3ac6d5-ddf4-4cfa-a834-8a674c8e4220"
   },
   "outputs": [
    {
     "data": {
      "text/plain": [
       "[<matplotlib.lines.Line2D at 0x2d7b4b118b0>]"
      ]
     },
     "execution_count": 30,
     "metadata": {},
     "output_type": "execute_result"
    },
    {
     "data": {
      "image/png": "[encoded data removed]",
      "text/plain": [
       "<Figure size 432x288 with 1 Axes>"
      ]
     },
     "metadata": {
      "needs_background": "light"
     },
     "output_type": "display_data"
    }
   ],
   "source": [
    "plt.plot(day_new,scaler.inverse_transform(df1[1872:]))\n",
    "plt.plot(day_pred,scaler.inverse_transform(lst_output))"
   ]
  },
  {
   "cell_type": "code",
   "execution_count": 31,
   "id": "attempted-mapping",
   "metadata": {
    "colab": {
     "base_uri": "https://localhost:8080/",
     "height": 282
    },
    "id": "attempted-mapping",
    "outputId": "0052153f-d6be-44e2-8e66-77ac27926327"
   },
   "outputs": [
    {
     "data": {
      "text/plain": [
       "[<matplotlib.lines.Line2D at 0x2d7b5b21c10>]"
      ]
     },
     "execution_count": 31,
     "metadata": {},
     "output_type": "execute_result"
    },
    {
     "data": {
      "image/png": "[encoded data removed]",
      "text/plain": [
       "<Figure size 432x288 with 1 Axes>"
      ]
     },
     "metadata": {
      "needs_background": "light"
     },
     "output_type": "display_data"
    }
   ],
   "source": [
    "df3=df1.tolist()\n",
    "df3.extend(lst_output)\n",
    "plt.plot(df3[2000:])"
   ]
  },
  {
   "cell_type": "code",
   "execution_count": 32,
   "id": "addressed-bunch",
   "metadata": {
    "colab": {
     "base_uri": "https://localhost:8080/",
     "height": 282
    },
    "id": "addressed-bunch",
    "outputId": "62d15871-8a08-4c47-9f43-e384a2ee621d"
   },
   "outputs": [
    {
     "data": {
      "text/plain": [
       "[<matplotlib.lines.Line2D at 0x2d7b5b29670>]"
      ]
     },
     "execution_count": 32,
     "metadata": {},
     "output_type": "execute_result"
    },
    {
     "data": {
      "image/png": "[encoded data removed]",
      "text/plain": [
       "<Figure size 432x288 with 1 Axes>"
      ]
     },
     "metadata": {
      "needs_background": "light"
     },
     "output_type": "display_data"
    }
   ],
   "source": [
    "df3=scaler.inverse_transform(df3).tolist()\n",
    "plt.plot(df3)"
   ]
  },
  {
   "cell_type": "code",
   "execution_count": null,
   "id": "Zx1xbfAmhrdJ",
   "metadata": {
    "id": "Zx1xbfAmhrdJ"
   },
   "outputs": [],
   "source": []
  }
 ],
 "metadata": {
  "colab": {
   "collapsed_sections": [],
   "name": "Task2 StockMarketPrediction.ipynb",
   "provenance": []
  },
  "kernelspec": {
   "display_name": "Python 3",
   "language": "python",
   "name": "python3"
  },
  "language_info": {
   "codemirror_mode": {
    "name": "ipython",
    "version": 3
   },
   "file_extension": ".py",
   "mimetype": "text/x-python",
   "name": "python",
   "nbconvert_exporter": "python",
   "pygments_lexer": "ipython3",
   "version": "3.8.8"
  }
 },
 "nbformat": 4,
 "nbformat_minor": 5
}
